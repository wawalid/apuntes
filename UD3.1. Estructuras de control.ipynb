{
 "cells": [
  {
   "cell_type": "markdown",
   "metadata": {},
   "source": [
    "<img style= \"float:left\" src='img/iesSeveroOchoa.png' width='600'>"
   ]
  },
  {
   "cell_type": "markdown",
   "metadata": {},
   "source": [
    "# UNIDAD 3.1: ESTRUCTURAS DE CONTROL\n",
    "1. [Estructuras de selección](#estructuras-de-selección)\n",
    "1. [Estructuras de repetición](#estructuras-de-repeticion)\n",
    "1. [Sentencias de salto](#sentencias-de-salto)\n",
    "1. [Control de excepciones](#control-de-excepciones)\n",
    "1. [Formatos de visualización](#formatos-de-visualización)\n",
    "1. [Métodos](#metodos)\n",
    "\n"
   ]
  },
  {
   "cell_type": "markdown",
   "metadata": {},
   "source": [
    "### Estructuras de selección\n",
    "Las estructuras de selección son sentencias para controlar el flujo de ejecución de un código. Es decir, se utilizan para ejecutar unas instrucciones u otras, en función de una condición o condiciones determinadas.\n",
    "\n",
    "Su forma más básica es (en una misma línea):\n",
    "\n",
    "```python\n",
    "    if <condicion>:  sentencia\n",
    "```\n",
    "\n",
    "O bien (repartido en varias líneas):\n",
    "\n",
    "```python\n",
    "    if <condicion>:\n",
    "        sentencia o sentencias\n",
    "        ...\n",
    "```\n",
    "\n",
    "Más generalmente, para especificar alternativas:\n",
    "\n",
    "```python\n",
    "    if <condicion 1>:\n",
    "        ejecuta esto\n",
    "        \n",
    "    elif <condicion 2>:\n",
    "        ejecuta esto otro si la condición 1 no se ha complido \n",
    "    ...\n",
    "    \n",
    "    else:\n",
    "        haz esto si ninguna de las condiciones anteriores se han cumplido\n",
    "```\n",
    "\n",
    "Lo anterior es equivalente también a:\n",
    "```python\n",
    "    if <condicion 1>:\n",
    "        ejecuta esto\n",
    "        \n",
    "    else:\n",
    "        \n",
    "        if <condicion 2>:\n",
    "            ejecuta esto otro  \n",
    "        ...\n",
    "    \n",
    "        else:\n",
    "            haz esto si ninguna de las condiciones anteriores se han cumplido\n",
    "```\n",
    "\n",
    "A continuación vamos a ver ejemplos que crecerán en complejidad."
   ]
  },
  {
   "cell_type": "code",
   "execution_count": null,
   "metadata": {},
   "outputs": [],
   "source": [
    "# Verificamos si \"True\" es verdadero, o si \"False\" es verdadero. La segunda condición nunca se va a cumplir.\n",
    "# Las comparaciones contra los valores \"True\" o \"False\" no tienen sentido en la práctica. Se detallan aquí para ilustrar el ejemplo más básico.\n",
    "\n",
    "if True:\n",
    "    print(\"La condición es verdadera.\")\n",
    "\n",
    "if False:\n",
    "    print(\"La condición es falsa, este comentario nunca se imprimirá.\")\n",
    "\n",
    "# Al ser un if con una sola sentencia, se puede escribir de la forma:\n",
    "if True: print(\"La condición es verdadera.\")\n",
    "\n",
    "if False: print(\"La condición es falsa, este comentario nunca se imprimirá\")\n",
    "\n",
    "# Si nos fijamos, las condiciones que NUNCA se van a cumplir aparecen ensombrecidas en este cuaderno. \n",
    "# Si pasamos el cursor por encima, veremos el mensaje \"Code is unreachable\", que lo muestra la extensión Pylance de VSC\n"
   ]
  },
  {
   "cell_type": "code",
   "execution_count": null,
   "metadata": {},
   "outputs": [],
   "source": [
    "# En este ejemplo utilizamos variables, y comparamos sus valores utilizando el operador de comparación \"==\"\n",
    "\n",
    "condicion_verdadera = True\n",
    "condicion_falsa = False\n",
    "\n",
    "if condicion_verdadera == True:\n",
    "    print(\"La variable condicion_verdadera tiene valor True\")\n",
    "\n",
    "# Condición que NUNCA se va a cumplir, con variable\n",
    "if condicion_falsa == True:\n",
    "    print(\"Este comentario nunca se imprimirá\")"
   ]
  },
  {
   "cell_type": "code",
   "execution_count": null,
   "metadata": {},
   "outputs": [],
   "source": [
    "# Lo anterior también lo habríamos podido escribir sin tener que comparar con True, o False (si fuese el caso)\n",
    "condicion_verdadera = True\n",
    "condicion_falsa = False\n",
    "\n",
    "# Si condicion_verdadera es positivo\n",
    "if condicion_verdadera:\n",
    "    print(\"La variable condicion_verdadera tiene valor True\")\n",
    "\n",
    "# Si condicion_falsa es positivo\n",
    "if condicion_falsa:\n",
    "    print(\"Este comentario nunca se imprimirá\")"
   ]
  },
  {
   "cell_type": "code",
   "execution_count": null,
   "metadata": {},
   "outputs": [],
   "source": [
    "# Normalmente no asignamos valores True o False a las variables, sino que nuestras variables almacenarán resultados de comparaciones.\n",
    "# En la unidad anterior ya revisamos los operadores de comparación, según este enlace: https://www.w3schools.com/python/python_operators.asp\n",
    "\n",
    "condicion_verdadera = (5 >= 2)\n",
    "condicion_falsa = (5 < 2)\n",
    "\n",
    "# Si condicion_verdadera es positivo\n",
    "if condicion_verdadera:\n",
    "    print(\"La variable condicion_verdadera tiene valor True\")\n",
    "\n",
    "# Si condicion_falsa es positivo\n",
    "if condicion_falsa:\n",
    "    print(\"Este comentario nunca se imprimirá\")"
   ]
  },
  {
   "cell_type": "code",
   "execution_count": null,
   "metadata": {},
   "outputs": [],
   "source": [
    "# Si las variables anteriores no las vamos a necesitar más en nuestro código, es mejor realizar las comparaciones en el propio if.\n",
    "# La decisión de utilizar variables o no, dependerá de que el valor de la variable se utilice en alguna otra parte del código.\n",
    "\n",
    "if (5 >= 2):\n",
    "    print(\"La primera condición es verdadera\")\n",
    "\n",
    "if (5 < 2):\n",
    "    print(\"Este comentario nunca se imprimirá\")"
   ]
  },
  {
   "cell_type": "code",
   "execution_count": null,
   "metadata": {},
   "outputs": [],
   "source": [
    "# Hasta ahora el segundo if de los ejemplos siempre ha sido falso. ¿Cómo se debería modificar la condición falsa para que se convirtiese en verdadera?\n",
    "# La respuesta es, mediante la NEGACIÓN. Recuerda: la doble negación es afirmación.\n",
    "\n",
    "if not (5 >= 2):\n",
    "    print(\"Este comentario nunca se imprimirá\")\n",
    "\n",
    "if not (5 < 2):\n",
    "    print(\"La segunda condición es verdadera\")\n",
    "\n",
    "# También podríamos haber comparado contra False\n",
    "if (5 >= 2) == False:\n",
    "    print(\"Este comentario nunca se imprimirá\")\n",
    "\n",
    "if (5 < 2) == False:\n",
    "    print(\"La segunda condición es verdadera\")\n",
    "\n",
    "# Y utilizando paréntesis para encerrar toda la condición (aunque no es necesario):\n",
    "if ((5 >= 2) == False):\n",
    "    print(\"Este comentario nunca se imprimirá\")\n",
    "\n",
    "if ((5 < 2) == False):\n",
    "    print(\"La segunda condición es verdadera\")\n",
    "\n",
    "\n",
    "# NOTA: utiliza los paréntesis y los espacios cuando más te convenga, te ayudará a leer mejor el código, a ti y a otros desarrolladores. "
   ]
  },
  {
   "cell_type": "code",
   "execution_count": null,
   "metadata": {},
   "outputs": [],
   "source": [
    "# En el siguiente ejemplo imprimimos un texto u otro, en función del valor de la variable, utilizando la cláusula \"else\"\n",
    "\n",
    "if (5 >= 2):\n",
    "    print(\"La primera condición es verdadera\")\n",
    "else:\n",
    "    print(\"La primera condición es falsa\")\n",
    "\n",
    "if (5 < 2):\n",
    "    print(\"La segunda condición es verdadera\")\n",
    "else:\n",
    "    print(\"La segunda condición es falsa\")"
   ]
  },
  {
   "cell_type": "code",
   "execution_count": null,
   "metadata": {},
   "outputs": [],
   "source": [
    "# No solo podemos comprobar una condición y su negación, sino que también podemos ir haciendo una serie de comprobaciones en cadena.\n",
    "# Esto lo podemos realizar mediante la cláusula \"elif\"\n",
    "# En el siguiente ejemplo comprobamos el valor de una variable entera en tres intervalos de números, e imprimimos un mensaje diferente.\n",
    "# La acción por defecto, si la hubiese, la declaramos tras la cláusula else:\n",
    "\n",
    "numero_entero = 0\n",
    "if ( numero_entero < 0):\n",
    "    print(\"Número que es negativo\")      \n",
    "elif (0 <= numero_entero) and (numero_entero <= 10):\n",
    "# if 0 < numero_entero and numero_entero <= 10:\n",
    "    print(\"Número comprendido entre 0 y 10\")\n",
    "elif (10 < numero_entero <= 20):\n",
    "    print(\"Número comprendido entre 11 y 20\")\n",
    "elif (20 < numero_entero <= 30):\n",
    "    print(\"Número comprendido entre 21 y 30\")\n",
    " \n",
    "else:\n",
    "    print(\"Número mayor a 30\")\n",
    "\n",
    "# NOTA: Fíjate en que se puede comprobar si un número está dentro de un rango mediante dos condiciones (como en el primer if), o mediante una comparación concatenada.\n",
    "# En el primer if no serían necesarios los paréntesis (los operadores de comparación preceden al \"and\"), pero se han introducido por claridad."
   ]
  },
  {
   "cell_type": "markdown",
   "metadata": {},
   "source": [
    "En ocasiones, muchas ocasiones, las ramificaciones en la lógica de nuestros programas hace necesario el uso de if's anidados.\n",
    "Se trata de sentencias if incluidas dentro de sentencias if. \n",
    "Si tenemos una gran cantidad de if's anidados, quizás tendríamos que plantearnos utilizar otras estructuras, como funciones.\n",
    "\n",
    "<img src='img/sentenciaifelif.png' width=\"300\">"
   ]
  },
  {
   "cell_type": "code",
   "execution_count": null,
   "metadata": {},
   "outputs": [],
   "source": [
    "# En ocasiones, muchas ocasiones, las ramificaciones en la lógica de nuestros programas hace necesario el uso de if's anidados.\n",
    "# Se trata de sentencias if incluidas dentro de sentencias if. \n",
    "# Si tenemos una gran cantidad de if's anidados, quizás tendríamos que plantearnos utilizar otras estructuras, como funciones.\n",
    "# Veamos un ejemplo:\n",
    "\n",
    "temperatura = 38\n",
    "\n",
    "if temperatura <= 36:\n",
    "    print(\"Temperatura normal\")\n",
    "else:\n",
    "    if 36 < temperatura < 38:\n",
    "        print(\"Cuidado, su temperatura no está dentro de los límites normales\")\n",
    "    else:\n",
    "        print(\"¡Acuda a un centro de salud urgentemente!\")\n",
    "\n",
    "# Para continuar con nuestro programa, simplemente utilizamos la indexación para marcar que el siguiente código ya no está dentro del if\n",
    "print(\"Fin del programa\")"
   ]
  },
  {
   "cell_type": "code",
   "execution_count": null,
   "metadata": {},
   "outputs": [],
   "source": [
    "# Otro uso de la sentencia if es comprobar si una variable tiene el valor 0, o es una cadena de caracteres vacía. Veamos unos ejemplos:\n",
    "\n",
    "numero_cero = 0\n",
    "numero_no_cero = 5\n",
    "cadena_vacia = \"\"\n",
    "cadena_no_vacia = \"Cadena no vacía\"\n",
    "\n",
    "if numero_cero:\n",
    "    print(\"numero_cero está no vacío\")\n",
    "else:\n",
    "    print(\"numero_cero está vacío\")\n",
    "\n",
    "if numero_no_cero:\n",
    "    print(\"numero_no_cero está no vacío\")\n",
    "else:\n",
    "    print(\"numero_no_cero está vacío\")\n",
    "\n",
    "if cadena_vacia:\n",
    "    print(\"cadena_vacia está no vacía\")\n",
    "else:\n",
    "    print(\"cadena_vacia está vacía\")\n",
    "\n",
    "if cadena_no_vacia:\n",
    "    print(\"cadena_no_vacia está no vacía\")\n",
    "else:\n",
    "    print(\"cadena_no_vacia está vacía\")            \n"
   ]
  },
  {
   "cell_type": "code",
   "execution_count": null,
   "metadata": {},
   "outputs": [],
   "source": [
    "# Ya hemos visto anteriormente un ejemplo de composición de condicionantes con \"and\".\n",
    "# Vamos a ver unos cuantos más\n",
    "\n",
    "variable1 = 5\n",
    "variable2 = 25\n",
    "\n",
    "if 0 < variable1 <= 10 and 15 < variable2 <= 30:\n",
    "    print(\"Las dos variables se encuentra en los rangos establecidos\")\n",
    "\n",
    "# Mejorando la lectura con paréntesis y utilizando or:\n",
    "if (0 < variable1 <= 10) or (15 < variable2 <= 30):\n",
    "    print(\"Las dos variables se encuentra en los rangos establecidos\")\n",
    "\n",
    "# Si las comparaciones se hacen muy largas o hay gran cantidad de ellas, podemos partir la línea con \"\\\" para una mejor lectura\n",
    "if ((0 < variable1 <= 10) and (15 < variable2 <= 30)) or \\\n",
    "    (0 < variable1 <= 30):\n",
    "\n",
    "    print(\"Al menos la variable1 está comprendida entre 0 y 30\")\n",
    "\n"
   ]
  },
  {
   "cell_type": "code",
   "execution_count": null,
   "metadata": {},
   "outputs": [],
   "source": [
    "# Existe una sintaxis más abreviada para el caso en el que solo tengamos las cláusulas if - else\n",
    "# Se trata del operador ternario, y un ejemplo es el siguiente:\n",
    "\n",
    "a = 2\n",
    "b = 5\n",
    "\n",
    "print(\"b es mayor a a\") if b > a else print(\"b NO es mayor a a\")"
   ]
  },
  {
   "cell_type": "markdown",
   "metadata": {},
   "source": [
    "### Estructuras de repetición\n",
    "La utilidad de un bucle es repetir una o más líneas de código varias veces.\n",
    "\n",
    "Existen 2 tipos de bucles en Python.\n",
    "\n",
    "* Determinados\n",
    "    * Se ejecutan un número determinado de veces.\n",
    "    * Se sabe a priori cuántas veces se va a ejecutar el bucle o, dicho de otra forma, el código que se encuentra en el interior del bucle.  \n",
    "\n",
    "* Indeterminados\n",
    "    * Se ejecutan un número indeterminado de veces.\n",
    "    * No se puede saber a priori cuantas veces se va a ejecutar el código del interior del bucle.\n",
    "    * La cantidad de veces que se ejecute dependerá de las circunstancias durante la ejecución del programa."
   ]
  },
  {
   "cell_type": "markdown",
   "metadata": {},
   "source": [
    "#### FOR\n",
    "\n",
    "- Es un bucle del tipo determinado.\n",
    "- Es muy utilizado en cualquier lenguaje de programación.\n",
    "\n",
    "Este iterador lo veremos en la **UD4**, cuando veamos los tipos de datos iterables (listas, tuplas, diccionarios).\n",
    "\n"
   ]
  },
  {
   "cell_type": "markdown",
   "metadata": {},
   "source": [
    "#### WHILE\n",
    "\n",
    "Un bucle while permite repetir la ejecución de un grupo de instrucciones mientras se cumpla una condición (es decir, mientras la condición tenga el valor True).\n",
    "\n",
    "La sintaxis del bucle while es la siguiente:\n",
    "\n",
    "**while condicion:**\n",
    "\n",
    "    cuerpo del bucle\n",
    "    \n",
    "La ejecución de esta estructura de control while es la siguiente:\n",
    "\n",
    "<img src=\"img\\sentenciawhile.png\" width= '200'>\n",
    "\n",
    "*\tPython evalúa la condición: \n",
    "    *\tsi el resultado es True se ejecuta el cuerpo del bucle. Una vez ejecutado el cuerpo del bucle, se repite el proceso (se evalúa de nuevo la condición y, si es cierta, se ejecuta de nuevo el cuerpo del bucle) una y otra vez mientras la condición sea cierta.\n",
    "    *\tsi el resultado es False, el cuerpo del bucle no se ejecuta y continúa la ejecución del resto del programa.\n",
    "    \n",
    "La variable o las variables que aparezcan en la condición se suelen llamar variables de control. Las variables de control deben definirse antes del bucle while y modificarse en el bucle while.\n",
    "\n",
    "Si incluimos en este esquema la definición y modificación de las variables de control que intervienen en la condición, el diagrama de flujo sería el siguiente:\n",
    "\n",
    "<img src=\"img\\sentenciawhile2.png\" width= '200'>\n"
   ]
  },
  {
   "cell_type": "code",
   "execution_count": null,
   "metadata": {},
   "outputs": [],
   "source": [
    "# El siguiente programa escribe los números del 1 al 3:\n",
    "i = 1\n",
    "\n",
    "while i <= 3:\n",
    "    print(i)\n",
    "    i += 1\n",
    "\n",
    "print(\"Programa terminado\")"
   ]
  },
  {
   "cell_type": "code",
   "execution_count": null,
   "metadata": {},
   "outputs": [],
   "source": [
    "# El siguiente programa escribe los números del 1 al 3: \n",
    "\n",
    "i = 3\n",
    "\n",
    "while i >= 0:\n",
    "    print(i)\n",
    "    i -= 1\n",
    "\n",
    "print(\"Programa terminado\")"
   ]
  },
  {
   "cell_type": "code",
   "execution_count": null,
   "metadata": {},
   "outputs": [],
   "source": [
    "# El siguiente programa escribe los números del 1 al 3: \n",
    "i = 1\n",
    "\n",
    "while not i > 3:\n",
    "    print(i)\n",
    "    i += 1\n",
    "\n",
    "print(\"Programa terminado\")"
   ]
  },
  {
   "cell_type": "code",
   "execution_count": null,
   "metadata": {},
   "outputs": [],
   "source": [
    "# La ventaja de un bucle while es que la variable de control se puede modificar con mayor flexibilidad, como en el ejemplo siguiente: \n",
    "i = 1\n",
    "\n",
    "while i <= 50:\n",
    "    print(i)\n",
    "    i = 3 * i + 1\n",
    "    \n",
    "print(\"Programa terminado\")"
   ]
  },
  {
   "cell_type": "code",
   "execution_count": null,
   "metadata": {},
   "outputs": [],
   "source": [
    "# Otra ventaja del bucle while es que el número de iteraciones no está definida antes de empezar el bucle, por ejemplo porque los datos los proporciona el usuario. \n",
    "# El siguiente ejemplo pide un número positivo al usuario una y otra vez hasta que el usuario lo haga correctamente:\n",
    "\n",
    "numero = int(input(\"Escriba un número positivo: \"))\n",
    "\n",
    "while numero < 0:\n",
    "    print(\"¡Ha escrito un número negativo! Inténtelo de nuevo\")\n",
    "    numero = int(input(\"Escriba un número positivo: \"))\n",
    "    \n",
    "print(\"Gracias por su colaboración\")"
   ]
  },
  {
   "cell_type": "markdown",
   "metadata": {},
   "source": [
    "Es posible combinar otros bucles o sentencias como `if` dentro de un bucle. Es algo muy normal. Gracias a incluir estas sentencias el bucle puede realizar acciones mucho más complejas y precisas.\n",
    "\n",
    "En el siguiente ejemplo podemos ver cómo nuestro programa identifica si cada uno de los números entre 1 y 7 son pares (even) o impares (odd).\n",
    "* El bucle while se encarga de ir iterando entre los números\n",
    "* la sentencia `if` es la que comprueba si cada número tiene resto 0.\n",
    "\n",
    "Cosas a fijarse:\n",
    "Estas 7 líneas de código tienen muchas cosas\n",
    "\n",
    "1. Un bucle `while`.\n",
    "2. Una sentencia `if`.\n",
    "3. Un operador de comparación `==`.\n",
    "4. Un operador aritmético `%`.\n",
    "5. Daos cuenta que los 2 operadores se utilizan en la misma línea y que el programa calcula el resto antes de compararlo.\n",
    "6. Una salida por pantalla `print()` que concatena una variable y texto.\n",
    "\n",
    "<img src = \"./img/bucle.gif\">"
   ]
  },
  {
   "cell_type": "markdown",
   "metadata": {},
   "source": [
    "Si la condición del bucle se cumple siempre, el bucle no terminará nunca de ejecutarse y tendremos lo que se denomina un **bucle infinito**. Aunque a veces es necesario utilizar bucles infinitos en un programa, normalmente se deben a errores que se deben corregir.\n",
    "\n",
    "Los bucles infinitos no intencionados deben evitarse pues significan perder el control del programa. Para interrumpir un bucle infinito, hay que pulsar la combinación de teclas Ctrl+C. Al interrumpir un programa se mostrará un mensaje de error similar a éste:\n",
    "\n",
    "`Traceback (most recent call last):\n",
    "  File \"ejemplo.py\", line 3, in <module>\n",
    "    print(i)\n",
    "KeyboardInterrupt`\n",
    "    \n",
    "Por desgracia, es fácil programar involuntariamente un bucle infinito, por lo que es inevitable hacerlo de vez en cuando, sobre todo cuando se está aprendiendo a programar.\n",
    "    \n",
    "Estos algunos ejemplos de bucles infinitos:"
   ]
  },
  {
   "cell_type": "code",
   "execution_count": null,
   "metadata": {},
   "outputs": [],
   "source": [
    "# El programador ha olvidado modificar la variable de control dentro del bucle y el programa imprimirá números 1 indefinidamente: \n",
    "i = 1\n",
    "while i <= 10:\n",
    "    print(i)"
   ]
  },
  {
   "cell_type": "code",
   "execution_count": null,
   "metadata": {},
   "outputs": [],
   "source": [
    "# En el ejemplo siguiente, el programador ha escrito una condición que se cumplirá siempre y el programa imprimirá números consecutivos indefinidamente: \n",
    "i = 1\n",
    "while i != 100:\n",
    "    print(i)\n",
    "    i += 2"
   ]
  },
  {
   "cell_type": "markdown",
   "metadata": {},
   "source": [
    "### Sentencias de salto\n",
    "\n",
    "Usar bucles en Python te permite automatizar y repetir tareas de manera eficiente.\n",
    "\n",
    "Sin embargo, a veces, es posible que un factor externo influya en la forma en que se ejecuta el programa. Cuando esto sucede, es posible que prefieras que tu programa cierre un bucle por completo, omita parte de un bucle antes de continuar o ignore ese factor externo. Puedes hacer estas acciones con las instrucciones break, continue y pass."
   ]
  },
  {
   "cell_type": "markdown",
   "metadata": {},
   "source": [
    "#### Break\n",
    "\n",
    "En Python, la instrucción break te proporciona la oportunidad de cerrar un bucle cuando se activa una condición externa. Debes poner la instrucción break dentro del bloque de código bajo la instrucción del bucle, generalmente después de una instrucción if condicional."
   ]
  },
  {
   "cell_type": "code",
   "execution_count": null,
   "metadata": {},
   "outputs": [],
   "source": [
    "n = 1\n",
    "while True:\n",
    "    n = n + 1\n",
    "    print(str(n) + ' elefantes se balanceaban sobre la tela de una araña\\n')\n",
    "    continuar = input('Desea invitar a otro elefante? ')\n",
    "    if continuar == 'no' or continuar == 'No':\n",
    "        break\n",
    "\n",
    "    "
   ]
  },
  {
   "cell_type": "code",
   "execution_count": null,
   "metadata": {},
   "outputs": [],
   "source": [
    "# Esto nos permite la introducción de datos, con filtrado, sin el input inicial que hemos realizado en un aejercicio anterior\n",
    "while True:\n",
    "    numero = int(input(\"Escriba un número positivo: \"))\n",
    "    if numero<0 :\n",
    "        print(\"¡Ha escrito un número negativo! Inténtelo de nuevo\")\n",
    "    else:\n",
    "        break\n",
    "    \n",
    "print(\"Gracias por su colaboración\")"
   ]
  },
  {
   "cell_type": "markdown",
   "metadata": {},
   "source": [
    "#### Continue\n",
    "\n",
    "La instrucción continue da la opción de omitir la parte de un bucle en la que se activa una condición externa, pero continuar para completar el resto del bucle. Es decir, la iteración actual del bucle se interrumpirá, pero el programa volverá a la parte superior del bucle.\n",
    "\n",
    "La instrucción continue se encuentra dentro del bloque de código abajo de la instrucción del bucle, generalmente después de una instrucción if condicional."
   ]
  },
  {
   "cell_type": "code",
   "execution_count": null,
   "metadata": {},
   "outputs": [],
   "source": [
    "# Ejemplo de utilización de continue. Solo se imprimen los números impares del 1 al 10\n",
    "n = 0\n",
    "while n < 10:\n",
    "    n = n + 1\n",
    "    if n%2 == 0:\n",
    "        continue\n",
    "    print(str(n))"
   ]
  },
  {
   "cell_type": "code",
   "execution_count": null,
   "metadata": {},
   "outputs": [],
   "source": [
    "# Podemos modificar el flujo con las sentencias **break o continue**\n",
    "# Ejemplo de bucle con 'continue' y 'break'\n",
    "x = 0\n",
    "y = 0\n",
    "limite = 5\n",
    "\n",
    "while True:\n",
    "    y += 1\n",
    "\n",
    "    if y != limite:\n",
    "        x += y\n",
    "    else:\n",
    "        break #finaliza el while cuando y vale 5\n",
    "\n",
    "    if y != 3:\n",
    "        continue #se salta print(x,y)\n",
    "    \n",
    "    print(x,y)\n",
    "\n",
    "print(x,y)\n",
    "\n",
    "# NOTA: Más adelante en este cuaderno veremos el uso de print con más de un parámetro"
   ]
  },
  {
   "cell_type": "markdown",
   "metadata": {},
   "source": [
    "La traza del ejercicico sería:\n",
    "\n",
    "| x   | y   |límite|salida|\n",
    "| :-: | :-: | :-:  | :-:  |\n",
    "|0  |0 |5  |     |\n",
    "| 1 | 1|   |     |\n",
    "| 3 | 2|   |     |\n",
    "| 6 | 3 |  | 6  3|\n",
    "|10 | 4 |  |     |\n",
    "|   |  5|  |     |\n",
    "|   |   |  |10  5|"
   ]
  },
  {
   "cell_type": "markdown",
   "metadata": {},
   "source": [
    "#### Pass\n",
    "\n",
    "Cuando se activa una condición externa, la instrucción pass permite manejar la condición sin que el bucle se vea afectado de ninguna manera; todo el código continuará leyéndose a menos que se produzca la instrucción break u otra instrucción.\n",
    "\n",
    "Igual que con las demás instrucciones, la instrucción pass se encuentra dentro del bloque de código abajo de la instrucción del bucle, normalmente después de una instrucción if condicional.\n",
    "\n",
    "Podemos encontrar pass en fragmentos del código que aún no tenemos completados, para ir rellenándolos en una fase posterior."
   ]
  },
  {
   "cell_type": "code",
   "execution_count": null,
   "metadata": {},
   "outputs": [],
   "source": [
    "# Ejemplo de utilización de pass. Se imprimen los números del 1 al 10\n",
    "n = 0\n",
    "while n < 10:\n",
    "    n = n + 1\n",
    "    if n%2 == 0:\n",
    "        pass\n",
    "    print(str(n))"
   ]
  },
  {
   "cell_type": "code",
   "execution_count": null,
   "metadata": {},
   "outputs": [],
   "source": [
    "# Pass también se puede utilizar en condiciones if como en el siguiente ejemplo:\n",
    "a = 33\n",
    "b = 200\n",
    "\n",
    "if b > a:\n",
    "  pass\n",
    "\n",
    "# Este código puede ser un código incompleto que queramos completar más adelante"
   ]
  },
  {
   "cell_type": "markdown",
   "metadata": {},
   "source": [
    "### Control de excepciones\n",
    "\n",
    "Los errores de ejecución son llamados comúnmente excepciones y por eso de ahora en adelante utilizaremos ese nombre. Durante la ejecución de un programa, si dentro de una función surge una excepción y la función no la maneja, la excepción se propaga hacia la función que la invocó, si esta otra tampoco la maneja, la excepción continúa propagándose hasta llegar a la función inicial del programa y si esta tampoco la maneja se interrumpe la ejecución del programa. Veamos entonces como manejar excepciones.\n",
    "\n",
    "Para el manejo de excepciones los lenguajes proveen ciertas palabras reservadas, que nos permiten manejar las excepciones que puedan surgir y tomar acciones de recuperación para evitar la interrupción del programa o, al menos, para realizar algunas acciones adicionales antes de interrumpir el programa.\n",
    "\n",
    "En el caso de Python, el manejo de excepciones se hace mediante los bloques que utilizan las sentencias **try, except y finally**.\n",
    "\n",
    "Dentro del bloque try se ubica todo el código que pueda llegar a levantar una excepción, se utiliza el término levantar para referirse a la acción de generar una excepción.\n",
    "\n",
    "**Tipos de excepciones**: Los principales excepciones definidas en Python son:\n",
    "\n",
    "* **TypeError** : Ocurre cuando se aplica una operación o función a un dato del tipo inapropiado.\n",
    "* **ZeroDivisionError** : Ocurre cuando se itenta dividir por cero.\n",
    "* **OverflowError** : Ocurre cuando un cálculo excede el límite para un tipo de dato numérico.\n",
    "* **IndexError** : Ocurre cuando se intenta acceder a una secuencia con un índice que no existe.\n",
    "* **KeyError** : Ocurre cuando se intenta acceder a un diccionario con una clave que no existe.\n",
    "* **FileNotFoundError** : Ocurre cuando se intenta acceder a un fichero que no existe en la ruta indicada.\n",
    "* **ImportError** : Ocurre cuando falla la importación de un módulo.\n",
    "* **ValueError**: Ocurre cuando introducimos un valor que no pertenece a la clase asignada.\n",
    "* **Exception**: Clase base de las excepciones no existentes.\n",
    "* **BaseException**: La clase base de todas las excepciones comunes. Deriva de la clase raíz \\_\\_builtin\\_\\_.object, es el tipo más básico. \n",
    "\n",
    "A continuación se ubica el bloque except, que se encarga de capturar la excepción y nos da la oportunidad de procesarla mostrando por ejemplo un mensaje adecuado al usuario. \n",
    "\n",
    "\n"
   ]
  },
  {
   "cell_type": "code",
   "execution_count": null,
   "metadata": {},
   "outputs": [],
   "source": [
    "while True:\n",
    "    try:\n",
    "        x = int(input(\"Ingrese un número entero: \"))\n",
    "        print(f\"me gusta el número {x}\")\n",
    "        break\n",
    "    except ValueError:\n",
    "        print(\"Eso no es un número válido.\")"
   ]
  },
  {
   "cell_type": "markdown",
   "metadata": {},
   "source": [
    "Una sintaxis más completa permite multiples bloques except, un mismo bloque except, un bloque else que se ejecuta cuando no se originó ninguna excepción y un bloque finally que se ejecuta siempre"
   ]
  },
  {
   "cell_type": "code",
   "execution_count": null,
   "metadata": {},
   "outputs": [],
   "source": [
    "try:\n",
    "    x = int(input(\"Ingrese el divisor: \"))\n",
    "    print(10/x)\n",
    "except ZeroDivisionError:\n",
    "    print(\"No se puede dividir por cero\")\n",
    "except ValueError:\n",
    "    print(\"hubo un error de valor. Pon un numero! \")\n",
    "except:\n",
    "    print(\"error no detectado\")\n",
    "else:\n",
    "    print('todo salió bien. puedo hacer más operaciones')\n",
    "finally:\n",
    "    print('no sé qué pasó ni me interesa: yo me ejecuto igual')"
   ]
  },
  {
   "cell_type": "code",
   "execution_count": null,
   "metadata": {},
   "outputs": [],
   "source": [
    "try:\n",
    "    f = open('fichero.txt')  # El fichero no existe. Probar archivo.txt\n",
    "except FileNotFoundError:\n",
    "    print('¡El fichero no existe!')\n",
    "else:\n",
    "    print(f.read())\n",
    "    f.close()"
   ]
  },
  {
   "cell_type": "markdown",
   "metadata": {},
   "source": [
    "#### Lanzando excepciones\n",
    "La declaración **raise** permite al programador forzar a que ocurra una excepción específica "
   ]
  },
  {
   "cell_type": "code",
   "execution_count": null,
   "metadata": {},
   "outputs": [],
   "source": [
    "x = input('Introduzca un número entero: ')\n",
    "\n",
    "try:\n",
    "    if not type(x) == int:\n",
    "        raise Exception(\"Ha de introducir un número entero\")\n",
    "except Exception as e:\n",
    "    print(e)"
   ]
  },
  {
   "cell_type": "code",
   "execution_count": null,
   "metadata": {},
   "outputs": [],
   "source": [
    "try:\n",
    "    cadena = input('Edad: ')\n",
    "    edad= int(cadena)\n",
    "    if (edad <= 0):\n",
    "        raise ValueError(\"La edad debe ser positiva.\")\n",
    "except ValueError as e:\n",
    "    print(e)\n",
    "\n",
    "# TAREA: Cuando ejecutes este código, introduce una letra en lugar de un número entero. ¿Qué mensaje de error obtienes? ¿Dónde se ha producido la excepción?\n",
    "# Modifica el código para nidar un try dentro del try principal y tratar el caso en el que se introduzca algo que no sea un número."
   ]
  },
  {
   "cell_type": "markdown",
   "metadata": {},
   "source": [
    "### Formatos de visualización"
   ]
  },
  {
   "cell_type": "markdown",
   "metadata": {},
   "source": [
    "#### La función print()\n",
    "\n",
    "En los programas, para que python nos muestre texto o variables hay que utilizar la función print().\n",
    "\n",
    "La función print() permite mostrar texto en pantalla. El texto a mostrar se escribe como argumento de la función.\n",
    "\n",
    "Las cadenas se pueden delimitar tanto por comillas dobles (\") como por comillas simples (').\n",
    "\n",
    "Al final de cada print(), Python añade automáticamente un salto de línea.\n",
    "\n",
    "La función print() admite varios argumentos seguidos. En el programa, los argumentos deben separarse por comas. Los argumentos se muestran en el mismo orden y en la misma línea, separados por espacios:"
   ]
  },
  {
   "cell_type": "code",
   "execution_count": 1,
   "metadata": {},
   "outputs": [
    {
     "name": "stdout",
     "output_type": "stream",
     "text": [
      "Hola\n",
      "Hola\n"
     ]
    }
   ],
   "source": [
    "print(\"Hola\")\n",
    "print('Hola')"
   ]
  },
  {
   "cell_type": "code",
   "execution_count": null,
   "metadata": {},
   "outputs": [],
   "source": [
    "print(\"Hola\", \"Adiós\")"
   ]
  },
  {
   "cell_type": "markdown",
   "metadata": {},
   "source": [
    "Cuando se trata de dos cadenas seguidas, se puede no escribir comas entre ellas, pero las cadenas se escribirán seguidas, sin espacio en blanco entre ellas:"
   ]
  },
  {
   "cell_type": "code",
   "execution_count": null,
   "metadata": {},
   "outputs": [],
   "source": [
    "print(\"Hola\"     \"Adiós\")"
   ]
  },
  {
   "cell_type": "code",
   "execution_count": 2,
   "metadata": {},
   "outputs": [
    {
     "name": "stdout",
     "output_type": "stream",
     "text": [
      "El resultado vale 40\n"
     ]
    }
   ],
   "source": [
    "a = 20\n",
    "print(\"El resultado vale\", 20*2)"
   ]
  },
  {
   "cell_type": "markdown",
   "metadata": {},
   "source": [
    "Para generar una línea en blanco, se puede escribir una orden print() sin argumentos."
   ]
  },
  {
   "cell_type": "code",
   "execution_count": null,
   "metadata": {},
   "outputs": [],
   "source": [
    "print(\"Hola\")\n",
    "print()\n",
    "print(\"Adiós\")\n",
    "print(\"Hola\" '\\n\\n' \"Adiós\")"
   ]
  },
  {
   "cell_type": "markdown",
   "metadata": {},
   "source": [
    "Si se quiere que Python no añada un salto de línea al final de un print(), se debe añadir al final el argumento end = \"\":"
   ]
  },
  {
   "cell_type": "code",
   "execution_count": 11,
   "metadata": {},
   "outputs": [
    {
     "name": "stdout",
     "output_type": "stream",
     "text": [
      "HolaAdiós\n"
     ]
    }
   ],
   "source": [
    "print(\"Hola\", end=\"\")\n",
    "print(\"Adiós\")"
   ]
  },
  {
   "cell_type": "markdown",
   "metadata": {},
   "source": [
    "En el ejemplo anterior, las dos cadenas se muestran pegadas. Si se quieren separar los argumentos en la salida, hay que incluir los espacios deseados (bien en la cadena, bien en el argumento **end**):"
   ]
  },
  {
   "cell_type": "code",
   "execution_count": 13,
   "metadata": {},
   "outputs": [
    {
     "name": "stdout",
     "output_type": "stream",
     "text": [
      "Hola. Adiós\n",
      "Hola. Adiós\n"
     ]
    }
   ],
   "source": [
    "print(\"Hola. \", end=\"\")\n",
    "print(\"Adiós\")\n",
    "print(\"Hola.\", end=\" \")\n",
    "print(\"Adiós\")"
   ]
  },
  {
   "cell_type": "markdown",
   "metadata": {},
   "source": [
    "El valor del parámetro end puede ser una cadena f (lo veremos más adelante):"
   ]
  },
  {
   "cell_type": "code",
   "execution_count": 14,
   "metadata": {},
   "outputs": [
    {
     "name": "stdout",
     "output_type": "stream",
     "text": [
      "Hola y Adiós\n"
     ]
    }
   ],
   "source": [
    "texto = \" y \"\n",
    "print(\"Hola\", end=f\"{texto}\")\n",
    "print(\"Adiós\")"
   ]
  },
  {
   "cell_type": "markdown",
   "metadata": {},
   "source": [
    "Como las comillas indican el principio y el final de una cadena, si se escriben comillas dentro de comillas se produce un error de sintaxis."
   ]
  },
  {
   "cell_type": "code",
   "execution_count": null,
   "metadata": {},
   "outputs": [],
   "source": [
    "print(\"Un tipo le dice a otro: \"¿Cómo estás?\"\")"
   ]
  },
  {
   "cell_type": "markdown",
   "metadata": {},
   "source": [
    "Para incluir comillas dentro de comillas, se puede escribir una contrabarra (**\\\\**) antes de la comilla para que Python reconozca la comilla como carácter, no como delimitador de la cadena:\n",
    "\n",
    "O escribir comillas distintas a las utilizadas como delimitador de la cadena:\n"
   ]
  },
  {
   "cell_type": "code",
   "execution_count": 16,
   "metadata": {},
   "outputs": [
    {
     "name": "stdout",
     "output_type": "stream",
     "text": [
      "Un tipo le dice a otro: \"¿Cómo estás?\"\n",
      "Y el otro le contesta: '¡Pues anda que tú!'\n"
     ]
    }
   ],
   "source": [
    "print(\"Un tipo le dice a otro: \\\"¿Cómo estás?\\\"\")\n",
    "print('Y el otro le contesta: \\'¡Pues anda que tú!\\'')"
   ]
  },
  {
   "cell_type": "code",
   "execution_count": 15,
   "metadata": {},
   "outputs": [
    {
     "name": "stdout",
     "output_type": "stream",
     "text": [
      "Un tipo le dice a otro: '¿Cómo estás?'\n",
      "Y el otro le contesta: \"¡Pues anda que tú!\"\n"
     ]
    }
   ],
   "source": [
    "print(\"Un tipo le dice a otro: '¿Cómo estás?'\")\n",
    "print('Y el otro le contesta: \"¡Pues anda que tú!\"')"
   ]
  },
  {
   "cell_type": "markdown",
   "metadata": {},
   "source": [
    "La función print() permite incluir variables o expresiones como argumento, lo que nos permite combinar texto y variables:\n",
    "\n",
    "Nota: podemos utilizar el operador + o espacio para concatenar variables siempre y cuando se realice una CONVERSIÓN previa de las variables a cadena de caracteres"
   ]
  },
  {
   "cell_type": "code",
   "execution_count": 17,
   "metadata": {},
   "outputs": [
    {
     "name": "stdout",
     "output_type": "stream",
     "text": [
      "Me llamo Pepe y tengo 25 años.\n",
      "En 4 semanas hay 28 días.\n"
     ]
    }
   ],
   "source": [
    "nombre = \"Pepe\"\n",
    "edad = 25\n",
    "print(\"Me llamo\", nombre, \"y tengo\", edad, \"años.\")\n",
    "# En la siguiente línea, si no convertimos edad a una cadena de caracteres, fallará la ejecución\n",
    "# print(\"Me llamo\" + nombre + \"y tengo\" + edad + \"años.\")  \n",
    "semanas = 4\n",
    "print(\"En\", semanas , \"semanas hay\", 7 * semanas, \"días.\")"
   ]
  },
  {
   "cell_type": "markdown",
   "metadata": {},
   "source": [
    "La función print() muestra los argumentos separados por espacios, lo que a veces no es conveniente. En el ejemplo siguiente el signo de exclamación se muestra separado de la palabra:\n"
   ]
  },
  {
   "cell_type": "code",
   "execution_count": 18,
   "metadata": {},
   "outputs": [
    {
     "name": "stdout",
     "output_type": "stream",
     "text": [
      "¡Hola, Pepe !\n"
     ]
    }
   ],
   "source": [
    "nombre = \"Pepe\"\n",
    "print(\"¡Hola,\", nombre, \"!\")"
   ]
  },
  {
   "cell_type": "markdown",
   "metadata": {},
   "source": [
    "A partir de Python 3.6 se pueden utilizar las **cadenas \"f\"** que mejoran este tipo de operaciones. Las veremos más adelante con mas detalle."
   ]
  },
  {
   "cell_type": "code",
   "execution_count": null,
   "metadata": {},
   "outputs": [],
   "source": [
    "nombre = \"Pepe\"\n",
    "print(f\"¡Hola, {nombre}!\")"
   ]
  },
  {
   "cell_type": "markdown",
   "metadata": {},
   "source": [
    "#### Formateo con %\n",
    "\n",
    "Python usa estilo de formato de cadenas parecido a C para crear nuevas cadenas. \n",
    "\n",
    "El **operador %** es usado para dar formato y fijar las variables encerradas en una \"tupla\" (una lista de tamaño fijo), juntos con una cadena con formato, el cual contiene el texto normal junto con \"argumentos especificados\", como los símbolos especiales  **%s , %d  y %f**. \n",
    "\n",
    "El formato basado en **% sólo es válido para los tipos de datos str, int y float**.\n",
    "\n",
    "Si tenemos una variable llamada \"nombre\" con tu nombre de usuario en él y quieres darle un saludo al usuario.\n"
   ]
  },
  {
   "cell_type": "code",
   "execution_count": 1,
   "metadata": {},
   "outputs": [
    {
     "name": "stdout",
     "output_type": "stream",
     "text": [
      "Hola, Juan!\n"
     ]
    }
   ],
   "source": [
    "# Esto imprime \"Hola, Juan!\"\n",
    "nombre = \"Juan\"\n",
    "print (\"Hola, %s!\" %nombre)"
   ]
  },
  {
   "cell_type": "markdown",
   "metadata": {},
   "source": [
    "Nota: otro modo, como veremos mas adelante, lo podemos hacer con cadenas f sin utilizar el operador %."
   ]
  },
  {
   "cell_type": "code",
   "execution_count": null,
   "metadata": {},
   "outputs": [],
   "source": [
    "nombre = \"Juan\"\n",
    "print(f\"Hola, {nombre}!\")"
   ]
  },
  {
   "cell_type": "markdown",
   "metadata": {},
   "source": [
    "Para usar dos o más especificadores de argumento, se utiliza un tupla, que es un tipo de dato iterable que abordaremos en la UD4:"
   ]
  },
  {
   "cell_type": "code",
   "execution_count": null,
   "metadata": {},
   "outputs": [],
   "source": [
    "# Esto imprime \"Juan tiene 23 años.\"\n",
    "nombre = \"Juan\"\n",
    "edad = 23\n",
    "print(\"%s tiene %d años.\" %(nombre, edad))"
   ]
  },
  {
   "cell_type": "code",
   "execution_count": 20,
   "metadata": {},
   "outputs": [
    {
     "name": "stdout",
     "output_type": "stream",
     "text": [
      "Tiene 35 años\n",
      "Claudia tiene 35 años y mide 1.820000 m.\n",
      "Claudia tiene   35 años y mide    1.820 m.\n"
     ]
    }
   ],
   "source": [
    "nombre = 'Claudia'\n",
    "edad = 35\n",
    "altura = 1.82\n",
    "print('Tiene %d años' %edad)  # Tiene 35 años\n",
    "print('%s tiene %i años y mide %f m.' %(nombre, edad, altura))\n",
    "# 8.3f 8 números de los que tres son decimales (se incluye la coma)\n",
    "print('%s tiene %4i años y mide %8.3f m.' %(nombre, edad, altura))"
   ]
  },
  {
   "cell_type": "markdown",
   "metadata": {},
   "source": [
    "Resumiendo, los especificadores de argumentos básicos que debes conocer:\n",
    "\n",
    ">**%s** ---- Cadena \n",
    "\n",
    ">**%d** o **%i** ---- Entero\n",
    "\n",
    ">**%f** ---- Números de punto flotante"
   ]
  },
  {
   "cell_type": "markdown",
   "metadata": {},
   "source": [
    "### Formateo con str.format()\n",
    "\n",
    "El formato con str.format() permite fijar la longitud de una cadena, aplicar formatos numéricos, establecer la alineación, tabular datos y rellenar espacios con un determinado caracter.\n",
    "\n",
    "Si queremos imprimir un numero decimal y queremos precisar el numero de digitos a imprimir usamos:\n",
    "\n",
    "__(tamaño total).(numero de decimales)f__\n",
    "\n",
    "<img src=\"https://cdn.programiz.com/sites/tutorial2program/files/python-format-positional-argument.jpg\" width=\"800\" />"
   ]
  },
  {
   "cell_type": "code",
   "execution_count": null,
   "metadata": {},
   "outputs": [],
   "source": []
  },
  {
   "cell_type": "code",
   "execution_count": 21,
   "metadata": {},
   "outputs": [
    {
     "name": "stdout",
     "output_type": "stream",
     "text": [
      "8.57 9.455\n"
     ]
    }
   ],
   "source": [
    "# Las cadenas f simplifican el formateo\n",
    "valor1 = 8.56767  \n",
    "valor2 = 9.45548 \n",
    "print(f'{valor1:.3} {valor2:.4}')#muestra 3 y 4 caracteres en total independiente,  ajustando los decimales"
   ]
  },
  {
   "cell_type": "code",
   "execution_count": null,
   "metadata": {},
   "outputs": [],
   "source": [
    "cadena = \"Hola mundo\"\n",
    "print(\"{:20} {}\".format(cadena, cadena))"
   ]
  },
  {
   "cell_type": "code",
   "execution_count": null,
   "metadata": {},
   "outputs": [],
   "source": [
    "valor1 = 18.56767  \n",
    "valor2 = 19.45548 \n",
    "# la f fija el número de decimales\n",
    "print('{0:.3f} {1:.4f}'.format(valor1, valor2))#muestra 3 y cuatro decimales\n",
    "# Si no incluimos la f, se van a imprimir el número de dígitos especificados, independientemente del número de decimales que haya\n",
    "# Probamos a cambiar los números y omitir la f, para probar los diferentes resultados"
   ]
  },
  {
   "cell_type": "code",
   "execution_count": null,
   "metadata": {},
   "outputs": [],
   "source": [
    "vel = 120\n",
    "print('Velocidad permitida: {} Km/h.'.format(vel))"
   ]
  },
  {
   "cell_type": "code",
   "execution_count": 22,
   "metadata": {},
   "outputs": [
    {
     "name": "stdout",
     "output_type": "stream",
     "text": [
      "Tiene 35 años\n",
      "Claudia tiene 35 años y mide 1.82 m.\n"
     ]
    }
   ],
   "source": [
    "# Ejemplo con %\n",
    "nombre = 'Claudia'\n",
    "edad = 35\n",
    "altura = 1.82\n",
    "\n",
    "print('Tiene %i años' %edad)  # Tiene 35 años\n",
    "print('%s tiene %i años y mide %.2f m.' %(nombre, edad, altura))"
   ]
  },
  {
   "cell_type": "code",
   "execution_count": 4,
   "metadata": {},
   "outputs": [
    {
     "name": "stdout",
     "output_type": "stream",
     "text": [
      "Tiene 35 años\n",
      "Claudia tiene 35 años y mide 1.82 m.\n"
     ]
    }
   ],
   "source": [
    "# Mismo ejemplo, con format\n",
    "nombre = 'Claudia'\n",
    "edad = 35\n",
    "altura = 1.82\n",
    "print('Tiene %i años' %edad)  # Tiene 35 años\n",
    "print('{0:s} tiene {1:2d} años y mide {2:.2f} m.'.format(nombre, edad, altura))"
   ]
  },
  {
   "cell_type": "markdown",
   "metadata": {},
   "source": [
    "### Formateo con cadenas f\n",
    "\n",
    "A partir de Python 3.6 las cadenas f proporcionan una forma sencilla de integrar variables y expresiones dentro de una cadena empleando una sintaxis muy reducida.  Simplifica y unifica en lo posible lo que ya había en este campo.\n",
    "\n",
    "A continuación, se muestra su potencial con varios ejemplos: \n",
    "\n",
    "Una cadena \"f\" se suele presentar como un literal entrecomillado al que le precede el carácter \"f\" o \"F\":\n",
    "\n",
    ">**f'cadena'**\n",
    "\n",
    " El resultado de evaluar una cadena \"f\" se puede asignar a una variable:"
   ]
  },
  {
   "cell_type": "code",
   "execution_count": null,
   "metadata": {},
   "outputs": [],
   "source": [
    "cadenaf = f'cadena'\n",
    "print(cadenaf)"
   ]
  },
  {
   "cell_type": "markdown",
   "metadata": {},
   "source": [
    "También, se puede extender a varias líneas utilizando las triples comillas:"
   ]
  },
  {
   "cell_type": "code",
   "execution_count": null,
   "metadata": {},
   "outputs": [],
   "source": [
    "cadenaf = f'''línea1\n",
    "línea2\n",
    "línea3'''\n",
    "print(cadenaf)"
   ]
  },
  {
   "cell_type": "markdown",
   "metadata": {},
   "source": [
    "Dentro de una cadena \"f\" se pueden insertar variables y expresiones escribiéndolas entre llaves {}:"
   ]
  },
  {
   "cell_type": "code",
   "execution_count": null,
   "metadata": {},
   "outputs": [],
   "source": [
    "importe = 1300\n",
    "descuento = 15\n",
    "print(f'Información de la compra: importe={importe} €, descuento={descuento} %')"
   ]
  },
  {
   "cell_type": "markdown",
   "metadata": {},
   "source": [
    "Las dobles llaves se utilizan para expresar el nombre de una variable o mostrar literalmente una expresión y no el valor resultante de su evaluación:"
   ]
  },
  {
   "cell_type": "code",
   "execution_count": null,
   "metadata": {},
   "outputs": [],
   "source": [
    "nombre = 'Claudia'\n",
    "cadena = f'La variable {{nombre}} contiene {nombre}'\n",
    "print(cadena)"
   ]
  },
  {
   "cell_type": "markdown",
   "metadata": {},
   "source": [
    "A partir de Python 3.8 un signo igual **'='** tras el nombre de una variable inserta tanto el nombre de la variable como su valor:\n",
    "\n",
    "Información de la compra: importe=1300 €, descuento=15 %"
   ]
  },
  {
   "cell_type": "code",
   "execution_count": 25,
   "metadata": {},
   "outputs": [
    {
     "name": "stdout",
     "output_type": "stream",
     "text": [
      "Información de la compra: importe=1300 €, descuento=15 %\n"
     ]
    }
   ],
   "source": [
    "importe = 1300\n",
    "descuento = 15\n",
    "print(f'Información de la compra: {importe=} €, {descuento=} %')"
   ]
  },
  {
   "cell_type": "markdown",
   "metadata": {},
   "source": [
    "Para concatenar o unir cadenas de textos con cadenas \"f\" se utiliza el espacio o el signo '+'. Los espacios en blanco dentro de una expresión son ignorados:"
   ]
  },
  {
   "cell_type": "code",
   "execution_count": 26,
   "metadata": {},
   "outputs": [
    {
     "name": "stdout",
     "output_type": "stream",
     "text": [
      "Una secuoya mide 115 metros\n",
      "Una secuoya mide 115 metros\n"
     ]
    }
   ],
   "source": [
    "arbol = 'secuoya'\n",
    "alt = 115\n",
    "print(f'Una {arbol}' ' mide ' f'{alt} metros')\n",
    "print(f'Una {arbol}' + ' mide ' + f'{alt} metros')"
   ]
  },
  {
   "cell_type": "markdown",
   "metadata": {},
   "source": [
    "Los especificadores de formato permiten fijar el espacio reservado para la parte entera de una expresión numérica y su precisión decimal:"
   ]
  },
  {
   "cell_type": "code",
   "execution_count": 30,
   "metadata": {},
   "outputs": [
    {
     "name": "stdout",
     "output_type": "stream",
     "text": [
      "Número PI:     3.1416\n",
      "Número PI: 3.14159\n"
     ]
    }
   ],
   "source": [
    "ancho = 10\n",
    "precision = 5 #número total de caracteres\n",
    "numpi = 3.14159265358979323846\n",
    "print(f\"Número PI: {numpi:{ancho}.{precision}}\")\n",
    "print(f\"Número PI: {numpi:.5f}\")"
   ]
  },
  {
   "cell_type": "markdown",
   "metadata": {},
   "source": [
    "Dentro de una cadena \"f\" cuando se evalúa una expresión el valor obtenido se convierte de forma automática a cadena de texto (str) para facilitar su inserción:"
   ]
  },
  {
   "cell_type": "code",
   "execution_count": null,
   "metadata": {},
   "outputs": [],
   "source": [
    "import time\n",
    "v1 = 10  # Número entero\n",
    "v2 = 12.34  # Número con decimales (float)\n",
    "v3 = 'abc'  # Cadena de texto\n",
    "v4 = 0xF  # Número hexadecimal\n",
    "v5 = True  # Valor booleano\n",
    "print(f'{v1+v2} {v3} {v4} {v5}')"
   ]
  },
  {
   "cell_type": "markdown",
   "metadata": {},
   "source": [
    "**ADELANTO DE LA UD5:**\n",
    "\n",
    "Los especificadores que se utilizan para formatear fechas y horas se pueden utilizar en una cadena \"f\":\n",
    "\n",
    "Hemos utilizado las siguientes cadenas de caracteres para formatear la fecha:\n",
    "\n",
    "    %b: Devuelve los primeros tres caracteres del nombre del mes.\n",
    "    %d: Devuelve el día del mes.\n",
    "    %m: Devuelve el mes.\n",
    "    %y: devuelve el año en formato de dos dígitos.\n",
    "    %Y: Devuelve el año en formato de cuatro dígitos.\n",
    "    %H: Devuelve la hora.\n",
    "    %M: Devuelve el minuto, de 00 a 59.\n",
    "    %S: Devuelve el segundo, de 00 a 59."
   ]
  },
  {
   "cell_type": "code",
   "execution_count": null,
   "metadata": {},
   "outputs": [],
   "source": [
    "from datetime import datetime\n",
    "fecha = datetime.now()#cojemos la fecha actual\n",
    "print(fecha)\n",
    "print(f\"{fecha.day}/{fecha.month}/{fecha.year} a las {fecha.hour} horas\")\n",
    "print(f'Hoy es {fecha:%d} de {fecha:%b} de {fecha:%Y} ')\n",
    "print(f'La fecha de hoy es {fecha:%d/%m/%Y} y la hora {fecha:%H:%M:%S}')"
   ]
  },
  {
   "cell_type": "code",
   "execution_count": null,
   "metadata": {},
   "outputs": [],
   "source": [
    "from datetime import datetime\n",
    "fecha = datetime(2018, 9, 15, 13)#construimos un objeto fecha\n",
    "print(fecha)\n",
    "print(f\"{fecha.day}/{fecha.month}/{fecha.year} a las {fecha.hour} horas\")\n",
    "print(f'El partido de tenis se jugará el día {fecha:%d}')\n",
    "print(f'El partido de tenis se jugará el mes {fecha:%m}')\n",
    "print(f'El partido de tenis se jugará el año {fecha:%y}')\n",
    "print(f'El partido de tenis se jugará el día {fecha:%d/%m/%y/}')"
   ]
  },
  {
   "cell_type": "markdown",
   "metadata": {},
   "source": [
    "### Funciones básicas"
   ]
  },
  {
   "cell_type": "markdown",
   "metadata": {},
   "source": [
    "\n",
    "#### Subrutinas y bibliotecas en Programación\n",
    "A veces, en un determinado programa es necesario efectuar una misma tarea en distintos puntos del programa y, a menudo, en diferentes programas es necesario efectuar una misma tarea. Para evitar tener que volver a escribir una y otra vez las mismas instrucciones, casi todos los lenguajes de programación permiten agrupar porciones de programa y reutilizarlos en un mismo programa o en diferentes programas.\n",
    "\n",
    "Las subrutinas tienen muchas ventajas evidentes:\n",
    "\n",
    "*\tAhorrar trabajo: si sabemos cómo realizar una tarea, no es necesario volver a programarla una y otra vez.\n",
    "*\tFacilitar el mantenimiento: si descubrimos errores en una subrutina, sólo hay que corregirlos en un sitio, sin tener que recordar en cuántos sitios utilizamos el algoritmo.\n",
    "*\tSimplificar el código: la longitud y complejidad del programa se reducen porque las tareas repetitivas ya no aparecen en el cuerpo del programa.\n",
    "*\tFacilitar la creación de programas: el trabajo se puede dividir entre varios programadores (unos escriben las subrutinas, otros el cuerpo principal del programa, etc.).\n",
    "\n",
    "Si una subrutina se va a utilizar en un único programa, se suele definir en el propio programa. Pero cuando una subrutina se va a utilizar en varios programas, no es necesario repetirla en cada programa (se perderían algunas de las ventajas comentadas anteriormente), sino que se puede incluir en un fichero aparte al que los programas pueden acceder para recuperar las subrutinas. Estos ficheros reciben el nombre de **bibliotecas** (en español se suele decir mucho **librería**, traduciendo incorrectamente el término inglés library).\n",
    "\n",
    "En la UD4 veremos más sobre las bibliotecas o librerías.\n",
    "\n",
    "**En Python se utiliza el término función para referirse a las subrutinas y el término módulo para referirse a las bibliotecas**.\n",
    "\n",
    "A la hora de programar a veces es necesario recurrir a módulos, librerías, paquetes, etc para facilitarnos el desarrollo de un programa sin tener que repetir código o inventar la rueda nuevamente. También para organizar nuestro programa si es demasiado extenso y cuenta con muchas líneas de código, su estructura puede ser separada en módulos."
   ]
  },
  {
   "cell_type": "markdown",
   "metadata": {},
   "source": [
    "En Python las funciones se definen con la sentencia **def** y con **return** se devuelve un valor. \n",
    "\n",
    "Si la función no tiene un return, lo que devuelve es **None**. Veremos qué significa este tipo de datos en la **UD4**.\n",
    "\n",
    "**Recordad que la asignación de valores a una variable en Python es dinámico: se esperan comportamientos en vez de tipos**."
   ]
  },
  {
   "cell_type": "code",
   "execution_count": 31,
   "metadata": {},
   "outputs": [
    {
     "name": "stdout",
     "output_type": "stream",
     "text": [
      "¡Hola Ramón!\n",
      "¡Hola 23!\n"
     ]
    }
   ],
   "source": [
    "# Primer ejemplo de función, con un parámetro\n",
    "def saludar(nombre): \n",
    "    print(f\"¡Hola {nombre}!\")\n",
    "\n",
    "saludar(\"Ramón\")\n",
    "saludar(23)"
   ]
  },
  {
   "cell_type": "markdown",
   "metadata": {},
   "source": [
    "* **Funciones con un número fijo de parámetros.**\n",
    "\n",
    "La siguiente función calcula el área de un triángulo. Una vez definida se utiliza para calcular el área de dos triángulos de distintas dimensiones."
   ]
  },
  {
   "cell_type": "code",
   "execution_count": null,
   "metadata": {},
   "outputs": [],
   "source": [
    "def area_triangulo(base, altura):# define función con dos parámetros\n",
    "    return base * altura / 2 #devuelve el resultado de la expresión\n",
    "\n",
    "print(area_triangulo(6, 4))  # la función retornará el valor 12.0\n",
    "print(area_triangulo(3.5, 2.4))  #la función retornará el valor 4.2"
   ]
  },
  {
   "cell_type": "markdown",
   "metadata": {},
   "source": [
    "* **Funciones con parámetros con valores por defecto.**\n",
    "\n",
    "Se pueden establecer valores por defecto para los parámetros de una función. \n",
    "\n",
    "Se pueden combinar parámetros sin valores por defecto, con parámetros con valores por defecto.\n",
    "La norma es que primero se listen los parámetros que no tienen valores por defecto, y a continuación los que sí tienen valores por defecto.\n",
    "\n",
    "La función pagar tiene el parámetro dto_aplicado con el valor 5 asignado por defecto. Dicho valor se utilizará en la solución en el caso de omitirse este dato cuando sea llamada la función."
   ]
  },
  {
   "cell_type": "code",
   "execution_count": null,
   "metadata": {},
   "outputs": [],
   "source": [
    "def pagar(importe, dto_aplicado = 5):\n",
    "    return importe - (importe * dto_aplicado / 100)\n",
    "\n",
    "# Aquí vemos que se puede pasar una llamada a una función dentro de una función. Como pagar devuelve un número, se le pasa a print.\n",
    "print(pagar(1000))  # 950\n",
    "print(pagar(1000, 10))  # 900"
   ]
  },
  {
   "cell_type": "code",
   "execution_count": null,
   "metadata": {},
   "outputs": [],
   "source": [
    "def discriminante(a, b=0, c=0):\n",
    "    return b**2 - 4*a*c\n",
    "\n",
    "print(discriminante(1))\n",
    "print(discriminante(1,5,6))"
   ]
  },
  {
   "cell_type": "markdown",
   "metadata": {},
   "source": [
    "Pueden existir funciones con todos los parámetros con valores por defecto. Todos los parámetros tienen un valor por defecto. \n",
    "\n",
    "Cuando se utiliza la función si se especifican los nombres de los parámetros éstos pueden estar en distinto orden."
   ]
  },
  {
   "cell_type": "code",
   "execution_count": null,
   "metadata": {},
   "outputs": [],
   "source": [
    "def repiteCaracter(caracter=\"-\", repite=3):\n",
    "    return caracter * repite\n",
    "\n",
    "print(repiteCaracter())  # Se utilizan valores por omisión\n",
    "print(repiteCaracter('.',30))  # Muestra línea con 30 puntos\n",
    "print(repiteCaracter(repite=10, caracter='*'))  # Podemos cambiar el orden de los parámetros"
   ]
  },
  {
   "cell_type": "markdown",
   "metadata": {},
   "source": [
    "La función saludo recibe un parámetro requerido frase (es requerido porque no tiene valor por omisión) y un parámetro opcional (nombre). "
   ]
  },
  {
   "cell_type": "code",
   "execution_count": null,
   "metadata": {},
   "outputs": [],
   "source": [
    "def saludar(saludo, nombre='Vicente'): #múltiples puntos de salida\n",
    "    if saludo:\n",
    "        valor = f\"Hola {nombre}!\"\n",
    "        return valor\n",
    "    else:\n",
    "        return f\"Buenas tardes, {nombre}\"\n",
    "\n",
    "print(saludar(False,'Paco'))\n",
    "print()\n",
    "print(saludar(False))"
   ]
  },
  {
   "cell_type": "code",
   "execution_count": null,
   "metadata": {},
   "outputs": [],
   "source": [
    "def saludar(saludo, nombre='Vicente'): #colocando un if ternario\n",
    "    return f\"Hola {nombre}!\" if saludo else  f\"Buenas tardes, {nombre}\"\n",
    "\n",
    "print(saludar(False, 'Paco'))\n",
    "print()\n",
    "print(saludar(False))"
   ]
  },
  {
   "cell_type": "markdown",
   "metadata": {},
   "source": [
    "La función saludar recibe un parámetro requerido \"nombre\" (es requerido porque no tiene valor por defecto) y dos parámetros opcionales (\"saludo\" y \"sufijo\"). \n",
    "*\tSi sólo paso 1 parámetro será nombre y los valores default se usarán para los otros parámetros \n",
    "*\tSi paso 2 se usarán para nombre y saludo mientras que sufijo usará el default\n",
    "*\tSi paso todos los parámetros no se usarán los valores por omisión.\n"
   ]
  },
  {
   "cell_type": "code",
   "execution_count": null,
   "metadata": {},
   "outputs": [],
   "source": [
    "def saludar(nombre, saludo=\"Hola\", sufijo=\"¿qué tal?\"):\n",
    "    return f\"¡{saludo} {nombre}!, {sufijo}\"  \n",
    "\n",
    "print(saludar(\"Martín\"))\n",
    "print(saludar(\"Fernando\", 'Xe'))\n",
    "print(saludar(\"Joaquín\", \"Estimado\", 'hemos de hablar'))"
   ]
  },
  {
   "cell_type": "markdown",
   "metadata": {},
   "source": [
    "Pero ¿qué pasa si quiero usar el default para saludo pero no para sufijo? \n",
    "Podemos pasar los parámetros por nombre:"
   ]
  },
  {
   "cell_type": "code",
   "execution_count": null,
   "metadata": {},
   "outputs": [],
   "source": [
    "print(saludar('María', sufijo=\"estás radiante hoy\")) "
   ]
  },
  {
   "cell_type": "markdown",
   "metadata": {},
   "source": [
    "* **Funciones que devuelven más de un valor.**\n",
    "\n",
    "Las funciones pueden devolver más de un valor, en forma de tupla. Las tuplas son tipos de datos compuestos que abordaremos en la **UD4**, aunque podemos intuir el funcionamiento del siguiente código.\n",
    "\n",
    "Devolvemos una tupla con los distintos valores que desempaquetamos posteriormente."
   ]
  },
  {
   "cell_type": "code",
   "execution_count": null,
   "metadata": {},
   "outputs": [],
   "source": [
    "def operaciones(a,b):\n",
    "    return a+b, a-b, a*b\n",
    "\n",
    "x = 2\n",
    "y = 1\n",
    "a,b,c = operaciones(x,y)\n",
    "print(a, b, c)"
   ]
  },
  {
   "cell_type": "markdown",
   "metadata": {},
   "source": [
    "* **Funciones sin return.**\n",
    "\n",
    "Una función sin return devuelve None (veremos este tipo de dato en la **UD4**) si es asignada a una variable o llamada desde un print(). Por lo demás, funcionan igual que cualquier otra función."
   ]
  },
  {
   "cell_type": "code",
   "execution_count": null,
   "metadata": {},
   "outputs": [],
   "source": [
    "def repite(caracter='-', repite=3):\n",
    "    print(caracter * repite)\n",
    "\n",
    "repite('=', 20)\n",
    "print(repite('=', 20))#devuelve None"
   ]
  },
  {
   "cell_type": "markdown",
   "metadata": {},
   "source": [
    "* **Funciones con pass.**\n",
    "\n",
    "Imaginemos que queremos montar el esqueleto de nuestro programa, pero aún no hemos implementado el código de todas sus partes. Un buen comienzo es pensar qué funciones voy a necesitar y de qué se va a encargar cada una. En este caso, puedo definir las funciones que voy a necesitar (su nombre, argumentos) pero no implementar exactamente cómo van a llevar a cabo su propósito (su código).\n",
    "Para poder definir una función y dejarla vacía, se puede utilizar la directiva pass, de la forma:"
   ]
  },
  {
   "cell_type": "code",
   "execution_count": null,
   "metadata": {},
   "outputs": [],
   "source": [
    "def mi_funcion(parametro1, parametro2):\n",
    "  pass"
   ]
  },
  {
   "cell_type": "markdown",
   "metadata": {},
   "source": [
    "* **Ámbito de las variables. Variables globales.**\n",
    "\n",
    "Las variables que se crean fuera de una función (como en todos los ejemplos anteriores) se conocen como variables globales."
   ]
  },
  {
   "cell_type": "code",
   "execution_count": null,
   "metadata": {},
   "outputs": [],
   "source": [
    "x = \"awesome\"\n",
    "\n",
    "def myfunc():\n",
    "  print(\"Python is \" + x)\n",
    "\n",
    "myfunc()"
   ]
  },
  {
   "cell_type": "markdown",
   "metadata": {},
   "source": [
    "Si creas una variable con el mismo nombre dentro de una función, esta variable será local y solo podrá usarse dentro de la función. La variable global con el mismo nombre quedará como estaba, global y con el valor original."
   ]
  },
  {
   "cell_type": "code",
   "execution_count": null,
   "metadata": {},
   "outputs": [],
   "source": [
    "x = \"awesome\"\n",
    "\n",
    "def myfunc():\n",
    "  x = \"fantastic\"\n",
    "  print(\"Python is \" + x)\n",
    "\n",
    "myfunc()\n",
    "\n",
    "print(\"Python is \" + x)"
   ]
  },
  {
   "cell_type": "markdown",
   "metadata": {},
   "source": [
    "Para crear una variable global dentro de una función, puede usar la globalpalabra clave."
   ]
  },
  {
   "cell_type": "code",
   "execution_count": null,
   "metadata": {},
   "outputs": [],
   "source": [
    "def myfunc():\n",
    "  global x\n",
    "  x = \"fantastic\"\n",
    "\n",
    "myfunc()\n",
    "\n",
    "print(\"Python is \" + x)"
   ]
  },
  {
   "cell_type": "markdown",
   "metadata": {},
   "source": [
    "Además, utiliza la directiva \"global\" si necesitas cambiar el valor de una variable global dentro de una función."
   ]
  },
  {
   "cell_type": "code",
   "execution_count": null,
   "metadata": {},
   "outputs": [],
   "source": [
    "x = \"awesome\"\n",
    "\n",
    "def myfunc():\n",
    "  global x\n",
    "  x = \"fantastic\"\n",
    "\n",
    "myfunc()\n",
    "\n",
    "print(\"Python is \" + x)"
   ]
  },
  {
   "cell_type": "markdown",
   "metadata": {},
   "source": [
    "#### Funciones lambda\n",
    "\n",
    "Una función lambda es una pequeña función anónima.\n",
    "Una función lambda puede tomar cualquier número de argumentos, pero solo puede tener una expresión.\n",
    "\n",
    "lambda arguments : expression\n",
    "\n",
    "Ejemplos:"
   ]
  },
  {
   "cell_type": "code",
   "execution_count": null,
   "metadata": {},
   "outputs": [],
   "source": [
    "x = lambda a : a + 10\n",
    "print(x(5))\n",
    "\n",
    "y = lambda a, b : a * b\n",
    "print(y(5, 6))\n",
    "\n",
    "z = lambda a, b, c : a + b + c\n",
    "print(z(5, 6, 2))"
   ]
  },
  {
   "cell_type": "markdown",
   "metadata": {},
   "source": [
    "#### Recursividad\n",
    "\n",
    "La recursividad es una técnica muy empleada en la programación informática y consiste en que una función se llame a sí misma.\n",
    "\n",
    "En el ejemplo siguiente al ejecutar la función recursiva suma(7):\n",
    "* Se llama a la función recursiva y le pasamos el entero 7.\n",
    "* Se forma una pila de código sin resolver:\n",
    "    * resultado = 7 + suma(6)\n",
    "    * resultado = 6 + suma(5)\n",
    "    * resultado = 5 + suma(4)\n",
    "    * resultado = 4 + suma(3)\n",
    "    * resultado = 3 + suma(2)\n",
    "    * resultado = 2 + suma(1)\n",
    "    * resultado = 1 + suma(0)\n",
    "* Cuando n = 0 se le da a suma(0) el valor 0 y se deshace la pila\n",
    "    * resultado = 1 + 0\n",
    "    * imprime 1\n",
    "    * resultado = 2 + 1\n",
    "    * imprime 3\n",
    "    * resultado = 3 + 3\n",
    "    * imprime 6\n",
    "    * resultado = 4 + 6\n",
    "    * imprime 10\n",
    "    * resultado = 5 + 10\n",
    "    * imprime 15\n",
    "    * resultado = 6 + 15\n",
    "    * imprime 21\n",
    "    * resultado = 7 + 21\n",
    "    * imprime 28\n",
    "* Devuelve  resultado con un valor de 28"
   ]
  },
  {
   "cell_type": "code",
   "execution_count": null,
   "metadata": {},
   "outputs": [],
   "source": [
    "def suma(n):\n",
    "    resultado = 0\n",
    "    if n > 0:\n",
    "        resultado = n + suma(n-1)\n",
    "        #deshacemos la pila a partir de este punto\n",
    "        print(resultado)\n",
    "    else:\n",
    "        resultado = 0\n",
    "    \n",
    "    return resultado        \n",
    "\n",
    "n = int(input('n = '))\n",
    "valor = suma(n)    \n",
    "print(f\"La suma de los {n} primeros números vale {valor}\")"
   ]
  },
  {
   "cell_type": "markdown",
   "metadata": {},
   "source": [
    "En matemáticas, la sucesión o serie de Fibonacci es la siguiente sucesión infinita de números naturales:\n",
    "\n",
    "    0 , 1 , 1 , 2 , 3 , 5 , 8 , 13 , 21 , 34 , 55 , 89 , 144 , 233 , 377 , 610 , 987 , 1597 … \n",
    "\n",
    "La sucesión comienza con los números 0 y 1; a partir de estos, «cada término es la suma de los dos anteriores», es la relación de recurrencia que la define. \n",
    "\n",
    "<img src='img/fibonacci.png' width=\"350\">\n",
    "\n",
    "Implementar la función de fibonacci usando recursividad:"
   ]
  },
  {
   "cell_type": "code",
   "execution_count": null,
   "metadata": {},
   "outputs": [],
   "source": [
    "def fibonacci(n):\n",
    "    if n>1:\n",
    "        return fibonacci(n-1) + fibonacci(n-2)\n",
    "    elif n==1:\n",
    "        return 1\n",
    "    elif n==0:\n",
    "        return 0\n",
    "    else:\n",
    "        return 'número incorrecto'\n",
    "\n",
    "print(fibonacci(10))\n",
    "print(fibonacci(1))\n",
    "print(fibonacci(0))\n",
    "print(fibonacci(-5))"
   ]
  },
  {
   "cell_type": "markdown",
   "metadata": {},
   "source": [
    "\n",
    "## docstrings\n",
    "Módulos, funciones, métodos y clases pueden tener una \"cadena de documentación\", que se define como un string en la primera línea del cuerpo. Python automáticamente asigna esa cadena al atributo `__doc__` del objeto en cuestión (esto lo entenderemos mejor en la **UD5**).\n",
    "\n",
    "Los docstrings son opcionales pero muy recomendados, porque a diferencia de los comentarios (que se ponen con #), son los que se muestran en la ayuda interactiva y también pueden post-procesarse para generar documentación de referencia automática\n"
   ]
  },
  {
   "cell_type": "code",
   "execution_count": null,
   "metadata": {},
   "outputs": [],
   "source": [
    "# definimos una funcion que no recibe ni devuelve parámetros pero hace algo y devuelve una cadena.\n",
    "\n",
    "def hola():\n",
    "    \"\"\"\n",
    "    una función que saluda\n",
    "    de una manera muy amable\n",
    "\n",
    "    \n",
    "    \"\"\"\n",
    "    print(\"¡Hola Pythonianos!\")\n",
    "    return \"de nuevo\"\n",
    "#las funciones deben de estar al principio del programa para ser leidas por el intérprete\n",
    "#el programa se inicia  a partir de aquí\n",
    "\n",
    "hola() #llamada a la función"
   ]
  },
  {
   "cell_type": "markdown",
   "metadata": {},
   "source": [
    "Para visuaizar el docstring llamamos al método \\_\\_doc\\_\\_\" de la función llamada"
   ]
  },
  {
   "cell_type": "code",
   "execution_count": null,
   "metadata": {},
   "outputs": [],
   "source": [
    "print(hola.__doc__)"
   ]
  }
 ],
 "metadata": {
  "kernelspec": {
   "display_name": "Python 3",
   "language": "python",
   "name": "python3"
  },
  "language_info": {
   "codemirror_mode": {
    "name": "ipython",
    "version": 3
   },
   "file_extension": ".py",
   "mimetype": "text/x-python",
   "name": "python",
   "nbconvert_exporter": "python",
   "pygments_lexer": "ipython3",
   "version": "3.11.6"
  },
  "orig_nbformat": 4
 },
 "nbformat": 4,
 "nbformat_minor": 2
}
